{
 "cells": [
  {
   "cell_type": "markdown",
   "metadata": {},
   "source": [
    "## This is the magic command it permit to run another notebook from the current notebook and to pass variables to it."
   ]
  },
  {
   "cell_type": "code",
   "execution_count": 2,
   "metadata": {},
   "outputs": [
    {
     "name": "stdout",
     "output_type": "stream",
     "text": [
      "Making predictions for the following 10 houses:\n",
      "    Rooms  Bathroom  Landsize  Lattitude  Longtitude\n",
      "1       2       1.0     156.0   -37.8079    144.9934\n",
      "2       3       2.0     134.0   -37.8093    144.9944\n",
      "4       4       1.0     120.0   -37.8072    144.9941\n",
      "6       3       2.0     245.0   -37.8024    144.9993\n",
      "7       2       1.0     256.0   -37.8060    144.9954\n",
      "9       2       1.0     220.0   -37.8010    144.9989\n",
      "11      3       2.0     214.0   -37.8085    144.9964\n",
      "12      2       2.0       0.0   -37.8078    144.9965\n",
      "15      2       1.0     238.0   -37.8090    144.9976\n",
      "16      3       2.0     113.0   -37.8056    144.9930\n",
      "The predictions are\n",
      "[1035000. 1465000. 1600000. 1876000. 1636000. 1097000. 1350000.  750000.\n",
      " 1310000. 1200000.]\n"
     ]
    }
   ],
   "source": [
    "%run firstmodel.ipynb\n"
   ]
  },
  {
   "cell_type": "markdown",
   "metadata": {},
   "source": [
    "There are many metrics for summarizing model quality, but we'll start with one called Mean Absolute Error (also called MAE). Let's break down this metric starting with the last word, error."
   ]
  },
  {
   "cell_type": "code",
   "execution_count": 3,
   "metadata": {},
   "outputs": [
    {
     "data": {
      "text/plain": [
       "1115.7467183128902"
      ]
     },
     "execution_count": 3,
     "metadata": {},
     "output_type": "execute_result"
    }
   ],
   "source": [
    "from sklearn.metrics import mean_absolute_error\n",
    "from sklearn.model_selection import train_test_split\n",
    "\n",
    "predicted_home_prices = model.predict(X)\n",
    "mean_absolute_error(y, predicted_home_prices)"
   ]
  },
  {
   "cell_type": "markdown",
   "metadata": {},
   "source": [
    "## The measure we just computed can be called an \"in-sample\" score. We used a single \"sample\" of houses for both building the model and evaluating it. Here's why this is bad.\n",
    "\n",
    "However, in the sample of data you used to build the model, all homes with green doors were very expensive. The model's job is to find patterns that predict home prices, so it will see this pattern, and it will always predict high prices for homes with green doors.\n",
    "\n",
    "Since this pattern was derived from the training data, the model will appear accurate in the training data.\n",
    "\n",
    "But if this pattern doesn't hold when the model sees new data, the model would be very inaccurate when used in practice.\n",
    "\n",
    "The most straightforward way to do this is to exclude some data from the model-building process, and then use those to test the model's accuracy on data it hasn't seen before. This data is called **validation data**.\n",
    "\n",
    "The scikit-learn library has a function **train_test_split** to break up the data into two pieces:\n",
    "* training data to fit the model\n",
    "* data as validation data to calculate **mean_absolute_error**\n",
    "\n",
    "So when we split in two parts => **Out-of-sample**"
   ]
  },
  {
   "cell_type": "code",
   "execution_count": 15,
   "metadata": {},
   "outputs": [
    {
     "name": "stdout",
     "output_type": "stream",
     "text": [
      "247734.7127178825\n"
     ]
    }
   ],
   "source": [
    "trainX, valX, trainy, valy = train_test_split(X, y, random_state = 0)\n",
    "\n",
    "# ? Define model\n",
    "model = DecisionTreeRegressor()\n",
    "# ? Fit model\n",
    "model.fit(trainX, trainy)\n",
    "value_predicted = model.predict(valX)\n",
    "print(mean_absolute_error(valy, value_predicted))"
   ]
  }
 ],
 "metadata": {
  "kernelspec": {
   "display_name": "Python 3",
   "language": "python",
   "name": "python3"
  },
  "language_info": {
   "codemirror_mode": {
    "name": "ipython",
    "version": 3
   },
   "file_extension": ".py",
   "mimetype": "text/x-python",
   "name": "python",
   "nbconvert_exporter": "python",
   "pygments_lexer": "ipython3",
   "version": "3.10.1"
  },
  "orig_nbformat": 4
 },
 "nbformat": 4,
 "nbformat_minor": 2
}
