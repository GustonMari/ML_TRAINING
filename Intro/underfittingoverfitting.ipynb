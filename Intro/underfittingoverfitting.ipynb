{
 "cells": [
  {
   "cell_type": "code",
   "execution_count": 5,
   "metadata": {},
   "outputs": [
    {
     "name": "stdout",
     "output_type": "stream",
     "text": [
      "Making predictions for the following 10 houses:\n",
      "    Rooms  Bathroom  Landsize  Lattitude  Longtitude\n",
      "1       2       1.0     156.0   -37.8079    144.9934\n",
      "2       3       2.0     134.0   -37.8093    144.9944\n",
      "4       4       1.0     120.0   -37.8072    144.9941\n",
      "6       3       2.0     245.0   -37.8024    144.9993\n",
      "7       2       1.0     256.0   -37.8060    144.9954\n",
      "9       2       1.0     220.0   -37.8010    144.9989\n",
      "11      3       2.0     214.0   -37.8085    144.9964\n",
      "12      2       2.0       0.0   -37.8078    144.9965\n",
      "15      2       1.0     238.0   -37.8090    144.9976\n",
      "16      3       2.0     113.0   -37.8056    144.9930\n",
      "The predictions are\n",
      "[1035000. 1465000. 1600000. 1876000. 1636000. 1097000. 1350000.  750000.\n",
      " 1310000. 1200000.]\n"
     ]
    }
   ],
   "source": [
    "%run firstmodel.ipynb"
   ]
  },
  {
   "cell_type": "markdown",
   "metadata": {},
   "source": [
    "**overfitting**: where a model matches the training data almost perfectly, but does poorly in validation and other new data. Too many Leafs\n",
    "**underfitting**: where a model fails to capture important distinctions and patterns in the data, so it performs poorly even in training data. Too few Leafs\n",
    "\n",
    "But the **max_leaf_nodes** argument provides a very sensible way to control overfitting vs underfitting."
   ]
  },
  {
   "cell_type": "code",
   "execution_count": 7,
   "metadata": {},
   "outputs": [
    {
     "name": "stdout",
     "output_type": "stream",
     "text": [
      "so the best number of leaf node is =  500\n"
     ]
    }
   ],
   "source": [
    "from sklearn.metrics import mean_absolute_error\n",
    "from sklearn.tree import DecisionTreeRegressor\n",
    "\n",
    "def get_mae(max_leaf_nodes, train_X, val_X, train_y, val_y):\n",
    "    model = DecisionTreeRegressor(max_leaf_nodes=max_leaf_nodes, random_state=0)\n",
    "    model = model.fit(train_X, train_y)\n",
    "    predicted_value = model.predict(val_X)\n",
    "    return mean_absolute_error(val_y, predicted_value)\n",
    "\n",
    "\n",
    "trainX, valX, trainy, valy = train_test_split(X, y, random_state=0)\n",
    "\n",
    "candidate_max_leaf_nodes = [5, 25, 50, 100, 250, 500]\n",
    "scores = {leaf_size: get_mae(leaf_size, trainX, valX, trainy, valy) for leaf_size in candidate_max_leaf_nodes}\n",
    "best_tree_size = min(scores, key=scores.get)\n",
    "print('so the best number of leaf node is = ', best_tree_size)"
   ]
  }
 ],
 "metadata": {
  "kernelspec": {
   "display_name": "Python 3",
   "language": "python",
   "name": "python3"
  },
  "language_info": {
   "codemirror_mode": {
    "name": "ipython",
    "version": 3
   },
   "file_extension": ".py",
   "mimetype": "text/x-python",
   "name": "python",
   "nbconvert_exporter": "python",
   "pygments_lexer": "ipython3",
   "version": "3.10.1"
  },
  "orig_nbformat": 4
 },
 "nbformat": 4,
 "nbformat_minor": 2
}
